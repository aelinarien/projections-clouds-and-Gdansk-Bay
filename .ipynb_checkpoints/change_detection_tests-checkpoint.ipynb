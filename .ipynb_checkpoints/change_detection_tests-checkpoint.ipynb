{
 "cells": [
  {
   "cell_type": "markdown",
   "metadata": {},
   "source": [
    "# Change detection and raster vectorization\n",
    "\n",
    "1. Clip rasters / problem of extent.\n",
    "2. Calculate NDVI.\n",
    "3. Divide raster into quadrants / problem of scale.\n",
    "4. Monitor NDVI changes in each quadrant (time series).\n",
    "5. Locate time with abrupt changes in NDVI value.\n",
    "6. Check quadrant neighbours then check values pixel by pixel.\n",
    "7. Clip AoI / AoI statistics.\n",
    "8. Vectorize AoI.\n",
    "9. Monitor AoI."
   ]
  },
  {
   "cell_type": "code",
   "execution_count": null,
   "metadata": {},
   "outputs": [],
   "source": []
  }
 ],
 "metadata": {
  "kernelspec": {
   "display_name": "Python 3",
   "language": "python",
   "name": "python3"
  },
  "language_info": {
   "codemirror_mode": {
    "name": "ipython",
    "version": 3
   },
   "file_extension": ".py",
   "mimetype": "text/x-python",
   "name": "python",
   "nbconvert_exporter": "python",
   "pygments_lexer": "ipython3",
   "version": "3.6.5"
  }
 },
 "nbformat": 4,
 "nbformat_minor": 2
}
