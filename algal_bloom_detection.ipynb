{
 "cells": [
  {
   "cell_type": "markdown",
   "metadata": {},
   "source": [
    "# Algal Bloom Detection\n",
    "## Example how to reproject vector data, clean scenes from the clouds and detect harmful algal blooms based on the Landsat 8 data\n",
    "\n",
    "1. Import Python libraries and functions.\n",
    "2. Prepare time series Data Frame with Landsat 8 scenes (class RasterTimeSeries).\n",
    "3. Prepare class which reads, stores, shows and reprojects vector shapefiles.\n",
    "4. Example 1: differences between projections.\n",
    "5. Example 2: errors with clipping data with different projections.\n",
    "6. Example 3: clip raster.\n",
    "7. Clipping multiple rasters and update dataframe.\n",
    "8. Calculate Enhanced Vegetation Index EVI.\n",
    "9. Why will it be very hard to obtain a valid results? - an example\n",
    "10. Calculate EVI with corrected data.\n",
    "11. Clouds and remote sensing.\n",
    "12. Algal bloom detection and analysis."
   ]
  },
  {
   "cell_type": "markdown",
   "metadata": {},
   "source": [
    "### 1. Import Python libraries and functions."
   ]
  },
  {
   "cell_type": "code",
   "execution_count": 1,
   "metadata": {},
   "outputs": [],
   "source": [
    "%matplotlib inline\n",
    "\n",
    "# Base\n",
    "import os\n",
    "import numpy as np\n",
    "import pandas as pd\n",
    "\n",
    "# Spatial analysis\n",
    "import rasterio as rio\n",
    "import fiona as fio\n",
    "from fiona.crs import from_epsg\n",
    "from pyproj import Proj, transform\n",
    "\n",
    "# Visualization\n",
    "import matplotlib.pyplot as plt\n",
    "\n",
    "# Additional scripts\n",
    "from scripts.clip_area import clip_area\n",
    "from scripts.read_landsat_images import read_landsat_images\n",
    "from scripts.show_band import show_band"
   ]
  },
  {
   "cell_type": "markdown",
   "metadata": {},
   "source": [
    "### 2. Prepare time series Data Frame with Landsat 8 scenes (class RasterTimeSeries)."
   ]
  },
  {
   "cell_type": "code",
   "execution_count": 2,
   "metadata": {},
   "outputs": [],
   "source": [
    "class RasterTimeSeries:\n",
    "    \"\"\"Class prepares dataframe object with addresses to the folders with landsat bands. Dataframe index is a time when each scene was retrieved.\n",
    "    It is initialized with the folder which contains all landsat bands.\n",
    "    \n",
    "    Class methods:\n",
    "    prepare_directories(main_folder=None) - method prepares a list of folders with satellite images. Method performs search in the parent directory\n",
    "    given by the user or if it is None then it is taken from the class itself.\"\"\"\n",
    "    \n",
    "    def __init__(self, main_folder):\n",
    "        self.main_folder = main_folder\n",
    "        self.landsat_folders = None\n",
    "        self.landsat_dataframe = None\n",
    "    \n",
    "    def prepare_directories(self, main_folder=None):\n",
    "        \"\"\"Function prepares list with Landsat images directories in the given folder.\n",
    "        input 1: main_folder (string)\n",
    "        If None then self.main_folder is used as the parent directory of the folders with satellite images.\n",
    "        output: prepared_list - list with all folders with satellite images.\"\"\"\n",
    "        \n",
    "        if main_folder:\n",
    "            folder_name = os.listdir(main_folder)\n",
    "        else:\n",
    "            folder_name = self.main_folder\n",
    "        raw_list = os.listdir(folder_name)\n",
    "        prepared_list = []\n",
    "        for folder in raw_list:\n",
    "            if ((folder.startswith('LC')) and not (folder.endswith('.tar.gz'))):\n",
    "                prepared_list.append(folder_name + '/' + folder + '/')\n",
    "        self.landsat_folders = prepared_list\n",
    "        return prepared_list\n",
    "    \n",
    "    @staticmethod\n",
    "    def read_timestamp(folder):\n",
    "        \"\"\"Function reads date of acquisition of each Landsat 8 scene based on the folder with MTL file.\n",
    "        input 1: folder - string with Landsat folder (MTL file must be placed in it).\n",
    "        output: string with the scene acquisition time\"\"\"\n",
    "    \n",
    "        files = os.listdir(folder)\n",
    "        for file in files:\n",
    "            if file.startswith('LC') and file.endswith('MTL.txt'):\n",
    "                address = folder + '/' + file\n",
    "                with open(address, 'r') as f:\n",
    "                    for line in f:\n",
    "                        line = ''.join(line.split())\n",
    "                        if line.startswith('DATE_ACQUIRED='):\n",
    "                            line = line.replace('DATE_ACQUIRED=', '')\n",
    "                            return line\n",
    "    \n",
    "    def prepare_dataframe(self):\n",
    "        \"\"\"Function prepares dataframe with index column as a date of acquisition and the main column DIR which points\n",
    "        to the directories with Landsat 8 images. Function takes one argument: the list of folders with Landsat 8 datasets.\n",
    "        output: pandas dataframe with indexes set to the dates of acquisition and column indices folders with Landsat images.\"\"\"\n",
    "        \n",
    "        # DataFrame preparation\n",
    "        time_series = pd.DataFrame(self.landsat_folders, columns=['DIR'])\n",
    "        time_series.index = time_series['DIR'].apply(lambda x: str(pd.to_datetime(self.read_timestamp(x)).date()))\n",
    "        time_series.index.name = 'DATE'\n",
    "        time_series = time_series.sort_index()\n",
    "        self.landsat_dataframe = time_series\n",
    "        return time_series\n",
    "    \n",
    "    def __str__(self):\n",
    "        if self.landsat_folders is None:\n",
    "            return('Parent folder of all scenes: {}.\\\n",
    "            \\nList of subfolders is not created.\\\n",
    "            \\nDataframe with dates is not created.'.format(\n",
    "            self.main_folder))\n",
    "        elif self.landsat_dataframe is None:\n",
    "            return('Parent folder of all scenes: {}\\\n",
    "            \\nList of subfolders has {} directories.\\\n",
    "            \\nDataframe with dates is not created.'.format(\n",
    "            self.main_folder, len(self.landsat_folders)))\n",
    "        else:\n",
    "            return('Parent folder of all scenes: {}\\\n",
    "            \\nList of subfolders has {} directories.\\\n",
    "            \\nDataframe is created. List of all dates: {}.'.format(\n",
    "            self.main_folder,\n",
    "            len(self.landsat_folders),\n",
    "            self.landsat_dataframe.index.values))"
   ]
  },
  {
   "cell_type": "code",
   "execution_count": 3,
   "metadata": {},
   "outputs": [
    {
     "name": "stdout",
     "output_type": "stream",
     "text": [
      "Parent folder of all scenes: data/rasters.            \n",
      "List of subfolders is not created.            \n",
      "Dataframe with dates is not created.\n"
     ]
    }
   ],
   "source": [
    "folder = 'data/rasters'\n",
    "algal_blooms = RasterTimeSeries(folder)\n",
    "print(algal_blooms)"
   ]
  },
  {
   "cell_type": "code",
   "execution_count": 4,
   "metadata": {},
   "outputs": [
    {
     "name": "stdout",
     "output_type": "stream",
     "text": [
      "Parent folder of all scenes: data/rasters            \n",
      "List of subfolders has 14 directories.            \n",
      "Dataframe with dates is not created.\n"
     ]
    }
   ],
   "source": [
    "algal_blooms.prepare_directories()\n",
    "print(algal_blooms)"
   ]
  },
  {
   "cell_type": "code",
   "execution_count": 5,
   "metadata": {},
   "outputs": [
    {
     "name": "stdout",
     "output_type": "stream",
     "text": [
      "Parent folder of all scenes: data/rasters            \n",
      "List of subfolders has 14 directories.            \n",
      "Dataframe is created. List of all dates: ['2013-04-15' '2013-05-01' '2013-05-17' '2013-06-18' '2013-08-05'\n",
      " '2013-09-06' '2014-07-07' '2015-04-21' '2015-08-11' '2017-04-10'\n",
      " '2017-05-12' '2017-05-28' '2018-04-13' '2018-05-31'].\n"
     ]
    }
   ],
   "source": [
    "algal_blooms.prepare_dataframe()\n",
    "print(algal_blooms)"
   ]
  },
  {
   "cell_type": "markdown",
   "metadata": {},
   "source": [
    "### 3. Prepare class which reads, stores, shows and reprojects vector shapefiles."
   ]
  },
  {
   "cell_type": "code",
   "execution_count": 32,
   "metadata": {},
   "outputs": [],
   "source": [
    "# Helper function to prepare the data\n",
    "\n",
    "def get_epsg_from_raster(raster_address):\n",
    "    \"\"\"Function reads raster data and gets its coordinate reference system. \n",
    "    Then it is converted to the European Petroleum Survey Group (EPSG) reference number.\"\"\"\n",
    "    with rio.open(raster_address) as f:\n",
    "        band_crs = f.crs\n",
    "        destination_epsg = band_crs['init'][5:]\n",
    "        destination_epsg = int(destination_epsg)\n",
    "    return destination_epsg\n",
    "\n",
    "\n",
    "# The main class for vector file handling\n",
    "\n",
    "class VectorData:\n",
    "    \"\"\"Class reads, stores, shows and reprojects vector shapefiles.\n",
    "    It is initialized with filename.\n",
    "    \n",
    "    Class methods:\n",
    "    get_vector_data(parameters='all', write_params=True) - method reads vector data and parse its parameters such as geometry,\n",
    "    properties, crs and schema into dictionaries. Method may store parameters inside the object if write_params is set\n",
    "    to True. Method returns desired parameters.\n",
    "    reproject_geometry(destination_epsg, update=False) - method changes projection of each point inside the Polygon into\n",
    "    projection given as an epsg number. It may update object geometry if the update parameter is set to True. Method returns\n",
    "    reprojected geometry dictionary.\n",
    "    show_vector_data(geometry=None) - method shows polygon. If geometry is not given then method uses class geometry.\"\"\"\n",
    "    \n",
    "    def __init__(self, filename):\n",
    "        self.v_file = filename\n",
    "        self.geometry = {}\n",
    "        self.properties = None\n",
    "        self.vec_crs = None\n",
    "        self.vec_schema = None\n",
    "        \n",
    "    def get_vector_data(self, parameters='all', write_params=True):\n",
    "        \"\"\"\n",
    "        Function reads vector and its parameters and return them and / or store them inside the objects instance.\n",
    "        input 1: parameters (string)\n",
    "        parameters: 'all', 'none', 'geometry', 'properties', 'crs', 'schema'\n",
    "        'all': returns tuple with geometry, properties, crs and schema;\n",
    "        'none': does not return anything;\n",
    "        'geometry', 'properties', 'crs' or 'schema': returns chosen parameter.\n",
    "        input 2: write_params (bool)\n",
    "        write_params: True, False\n",
    "        True: store all parameters in the object\n",
    "        False: do not store anything in the object\n",
    "        output: chosen parameters as a dict\"\"\"\n",
    "        \n",
    "        with fio.open(vector_file, 'r') as masking_region:\n",
    "            geometry = [feature[\"geometry\"] for feature in masking_region]\n",
    "            properties = [feature['properties'] for feature in masking_region]\n",
    "            vec_crs = masking_region.crs\n",
    "            vec_schema = masking_region.schema\n",
    "        \n",
    "        if write_params:\n",
    "            print('--- Object geometry, properties, crs and schema updated ---')\n",
    "            self.geometry = geometry\n",
    "            self.properties = properties\n",
    "            self.vec_crs = vec_crs\n",
    "            self.vec_schema = vec_schema\n",
    "        else:\n",
    "            print('--- Object parameters not updated ---')\n",
    "            \n",
    "        output_dict = {'all': ({'geometry': geometry, 'properties': properties, 'crs': vec_crs, 'scheme': vec_schema}),\n",
    "                      'none': 0,\n",
    "                      'geometry': geometry,\n",
    "                      'properties': properties,\n",
    "                      'crs': vec_crs,\n",
    "                      'schema': vec_schema}\n",
    "        try:\n",
    "            return output_dict[parameters]\n",
    "        except KeyError:\n",
    "            raise KeyError(\"Parameter not available. Available parameters: 'all', 'none', 'geometry', 'properties', 'crs', 'schema'\")\n",
    "      \n",
    "    def reproject_geometry(self, destination_epsg, update=False):\n",
    "        \"\"\"\n",
    "        Function reprojects vector geometry and may update objects geometry.\n",
    "        input 1: destination_epsg (string or int)\n",
    "        input 2: update (bool)\n",
    "        True: update object's geometry\n",
    "        False: do not update object's geometry\n",
    "        output: reprojected geometry as a dict\"\"\"\n",
    "        \n",
    "        try:\n",
    "            destination_crs = from_epsg(destination_epsg)\n",
    "            proj_crs_in = Proj(self.vec_crs)\n",
    "            coordinates_list = self.geometry[0]['coordinates'][0]\n",
    "        except RuntimeError:\n",
    "            raise ValueError('Given EPSG is wrong or it is not stored in fiona to run from_epsg method')\n",
    "        except KeyError:\n",
    "            raise ValueError('You must update your object parameters by get_vector_data method with write_params set to True.')\n",
    "        proj_crs_out = Proj(init = destination_crs['init'])\n",
    "        coordinates_array = np.asarray(coordinates_list)\n",
    "        projected_g = []\n",
    "        \n",
    "        for g in coordinates_array:\n",
    "            transformed = transform(proj_crs_in, proj_crs_out, g[0], g[1])\n",
    "            points = (transformed[0], transformed[1],)\n",
    "            projected_g.append(points)\n",
    "        geometry_dict = {'coordinates': [projected_g], 'type': 'Polygon'}\n",
    "        \n",
    "        if update:\n",
    "            self.geometry = [geometry_dict]\n",
    "            self.vec_crs = destination_crs\n",
    "            \n",
    "        return [geometry_dict]\n",
    "    \n",
    "    def show_vector_data(self, geometry=None):\n",
    "        \"\"\"\n",
    "        Function shows vector geometry.\n",
    "        input 1: geometry (dict, geometry retrieved as a parameter from the vector data type).\n",
    "        If geometry is not given then method takes it from the objects instance.\"\"\"\n",
    "        \n",
    "        if geometry:\n",
    "            g = geometry\n",
    "        else:\n",
    "            g = self.geometry\n",
    "            \n",
    "        try:\n",
    "            coordinates_list = g[0]['coordinates'][0]\n",
    "        except KeyError:\n",
    "            raise ValueError(\n",
    "                'Geometry is not defined. Please, update geometry with get_vector_data method or provide valid geometry object to the method.')\n",
    "            \n",
    "        coordinates_array = np.asarray(coordinates_list)\n",
    "        plt.figure()\n",
    "        plt.plot(coordinates_array[:, 0], coordinates_array[:, 1])\n",
    "        plt.show()"
   ]
  },
  {
   "cell_type": "markdown",
   "metadata": {},
   "source": [
    "### 4. Example 1: differences between projections."
   ]
  },
  {
   "cell_type": "code",
   "execution_count": 33,
   "metadata": {},
   "outputs": [
    {
     "name": "stdout",
     "output_type": "stream",
     "text": [
      "--- Object geometry, properties, crs and schema updated ---\n"
     ]
    },
    {
     "data": {
      "image/png": "[encoded data removed]",
      "text/plain": [
       "<Figure size 432x288 with 1 Axes>"
      ]
     },
     "metadata": {},
     "output_type": "display_data"
    },
    {
     "name": "stdout",
     "output_type": "stream",
     "text": [
      "{'proj': 'tmerc', 'lat_0': 0, 'lon_0': 19, 'k': 0.9993, 'x_0': 500000, 'y_0': -5300000, 'ellps': 'GRS80', 'units': 'm', 'no_defs': True}\n"
     ]
    }
   ],
   "source": [
    "vector_file = 'data/vector/zatoka_gdanska.shp'\n",
    "vector_data = VectorData(vector_file)\n",
    "vd = vector_data.get_vector_data('geometry', True)\n",
    "vector_data.show_vector_data(vd)\n",
    "print(vector_data.vec_crs)"
   ]
  },
  {
   "cell_type": "code",
   "execution_count": 34,
   "metadata": {},
   "outputs": [
    {
     "data": {
      "image/png": "[encoded data removed]",
      "text/plain": [
       "<Figure size 432x288 with 1 Axes>"
      ]
     },
     "metadata": {},
     "output_type": "display_data"
    },
    {
     "name": "stdout",
     "output_type": "stream",
     "text": [
      "{'init': 'epsg:32634', 'no_defs': True}\n"
     ]
    }
   ],
   "source": [
    "df = algal_blooms.landsat_dataframe\n",
    "landsat_images = read_landsat_images(df['DIR'][0])\n",
    "epsg = get_epsg_from_raster(landsat_images[1])\n",
    "vn = vector_data.reproject_geometry(epsg, True)\n",
    "vector_data.show_vector_data()\n",
    "print(vector_data.vec_crs)"
   ]
  },
  {
   "cell_type": "markdown",
   "metadata": {},
   "source": [
    "### 5. Example 2: errors with clipping data with different projections."
   ]
  },
  {
   "cell_type": "code",
   "execution_count": 36,
   "metadata": {},
   "outputs": [
    {
     "name": "stdout",
     "output_type": "stream",
     "text": [
      "--- Object geometry, properties, crs and schema updated ---\n",
      "{'proj': 'tmerc', 'lat_0': 0, 'lon_0': 19, 'k': 0.9993, 'x_0': 500000, 'y_0': -5300000, 'ellps': 'GRS80', 'units': 'm', 'no_defs': True}\n"
     ]
    }
   ],
   "source": [
    "# Read and prepare vector data\n",
    "\n",
    "vector_file = 'data/vector/zatoka_gdanska.shp'\n",
    "vector_data = VectorData(vector_file)\n",
    "vector_data.get_vector_data('geometry', True)\n",
    "print(vector_data.vec_crs)"
   ]
  },
  {
   "cell_type": "code",
   "execution_count": 40,
   "metadata": {},
   "outputs": [
    {
     "name": "stdout",
     "output_type": "stream",
     "text": [
      "CRS({'init': 'epsg:32634'})\n"
     ]
    }
   ],
   "source": [
    "# Read raster file and check its crs\n",
    "\n",
    "with rio.open(landsat_images[1]) as f:\n",
    "    band_crs = f.crs\n",
    "\n",
    "print(band_crs)"
   ]
  },
  {
   "cell_type": "code",
   "execution_count": 41,
   "metadata": {},
   "outputs": [
    {
     "ename": "ValueError",
     "evalue": "Input shapes do not overlap raster.",
     "output_type": "error",
     "traceback": [
      "\u001b[0;31m---------------------------------------------------------------------------\u001b[0m",
      "\u001b[0;31mWindowError\u001b[0m                               Traceback (most recent call last)",
      "\u001b[0;32m~/anaconda3/envs/l8p/lib/python3.6/site-packages/rasterio/mask.py\u001b[0m in \u001b[0;36mraster_geometry_mask\u001b[0;34m(raster, shapes, all_touched, invert, crop, pad)\u001b[0m\n\u001b[1;32m     79\u001b[0m         window = geometry_window(raster, shapes, north_up=north_up, pad_x=pad_x,\n\u001b[0;32m---> 80\u001b[0;31m                                  pad_y=pad_y)\n\u001b[0m\u001b[1;32m     81\u001b[0m \u001b[0;34m\u001b[0m\u001b[0m\n",
      "\u001b[0;32m~/anaconda3/envs/l8p/lib/python3.6/site-packages/rasterio/features.py\u001b[0m in \u001b[0;36mgeometry_window\u001b[0;34m(raster, shapes, pad_x, pad_y, north_up, pixel_precision)\u001b[0m\n\u001b[1;32m    374\u001b[0m     \u001b[0;31m# This will raise a WindowError if windows do not overlap\u001b[0m\u001b[0;34m\u001b[0m\u001b[0;34m\u001b[0m\u001b[0m\n\u001b[0;32m--> 375\u001b[0;31m     \u001b[0mwindow\u001b[0m \u001b[0;34m=\u001b[0m \u001b[0mwindow\u001b[0m\u001b[0;34m.\u001b[0m\u001b[0mintersection\u001b[0m\u001b[0;34m(\u001b[0m\u001b[0mraster_window\u001b[0m\u001b[0;34m)\u001b[0m\u001b[0;34m\u001b[0m\u001b[0m\n\u001b[0m\u001b[1;32m    376\u001b[0m \u001b[0;34m\u001b[0m\u001b[0m\n",
      "\u001b[0;32m~/anaconda3/envs/l8p/lib/python3.6/site-packages/rasterio/windows.py\u001b[0m in \u001b[0;36mintersection\u001b[0;34m(self, other)\u001b[0m\n\u001b[1;32m    730\u001b[0m         \"\"\"\n\u001b[0;32m--> 731\u001b[0;31m         \u001b[0;32mreturn\u001b[0m \u001b[0mintersection\u001b[0m\u001b[0;34m(\u001b[0m\u001b[0;34m[\u001b[0m\u001b[0mself\u001b[0m\u001b[0;34m,\u001b[0m \u001b[0mother\u001b[0m\u001b[0;34m]\u001b[0m\u001b[0;34m)\u001b[0m\u001b[0;34m\u001b[0m\u001b[0m\n\u001b[0m",
      "\u001b[0;32m~/anaconda3/envs/l8p/lib/python3.6/site-packages/rasterio/windows.py\u001b[0m in \u001b[0;36mwrapper\u001b[0;34m(*args, **kwargs)\u001b[0m\n\u001b[1;32m    123\u001b[0m         \u001b[0;32mif\u001b[0m \u001b[0mlen\u001b[0m\u001b[0;34m(\u001b[0m\u001b[0margs\u001b[0m\u001b[0;34m)\u001b[0m \u001b[0;34m==\u001b[0m \u001b[0;36m1\u001b[0m \u001b[0;32mand\u001b[0m \u001b[0misinstance\u001b[0m\u001b[0;34m(\u001b[0m\u001b[0margs\u001b[0m\u001b[0;34m[\u001b[0m\u001b[0;36m0\u001b[0m\u001b[0;34m]\u001b[0m\u001b[0;34m,\u001b[0m \u001b[0mcollections\u001b[0m\u001b[0;34m.\u001b[0m\u001b[0mIterable\u001b[0m\u001b[0;34m)\u001b[0m\u001b[0;34m:\u001b[0m\u001b[0;34m\u001b[0m\u001b[0m\n\u001b[0;32m--> 124\u001b[0;31m             \u001b[0;32mreturn\u001b[0m \u001b[0mfunction\u001b[0m\u001b[0;34m(\u001b[0m\u001b[0;34m*\u001b[0m\u001b[0margs\u001b[0m\u001b[0;34m[\u001b[0m\u001b[0;36m0\u001b[0m\u001b[0;34m]\u001b[0m\u001b[0;34m)\u001b[0m\u001b[0;34m\u001b[0m\u001b[0m\n\u001b[0m\u001b[1;32m    125\u001b[0m         \u001b[0;32melse\u001b[0m\u001b[0;34m:\u001b[0m\u001b[0;34m\u001b[0m\u001b[0m\n",
      "\u001b[0;32m~/anaconda3/envs/l8p/lib/python3.6/site-packages/rasterio/windows.py\u001b[0m in \u001b[0;36mintersection\u001b[0;34m(*windows)\u001b[0m\n\u001b[1;32m    221\u001b[0m     \u001b[0;32mif\u001b[0m \u001b[0;32mnot\u001b[0m \u001b[0mintersect\u001b[0m\u001b[0;34m(\u001b[0m\u001b[0mwindows\u001b[0m\u001b[0;34m)\u001b[0m\u001b[0;34m:\u001b[0m\u001b[0;34m\u001b[0m\u001b[0m\n\u001b[0;32m--> 222\u001b[0;31m         \u001b[0;32mraise\u001b[0m \u001b[0mWindowError\u001b[0m\u001b[0;34m(\u001b[0m\u001b[0;34m\"windows do not intersect\"\u001b[0m\u001b[0;34m)\u001b[0m\u001b[0;34m\u001b[0m\u001b[0m\n\u001b[0m\u001b[1;32m    223\u001b[0m \u001b[0;34m\u001b[0m\u001b[0m\n",
      "\u001b[0;31mWindowError\u001b[0m: windows do not intersect",
      "\nDuring handling of the above exception, another exception occurred:\n",
      "\u001b[0;31mValueError\u001b[0m                                Traceback (most recent call last)",
      "\u001b[0;32m<ipython-input-41-359727901599>\u001b[0m in \u001b[0;36m<module>\u001b[0;34m()\u001b[0m\n\u001b[1;32m      1\u001b[0m \u001b[0;31m# Try to clip areas with different projections\u001b[0m\u001b[0;34m\u001b[0m\u001b[0;34m\u001b[0m\u001b[0m\n\u001b[1;32m      2\u001b[0m \u001b[0;34m\u001b[0m\u001b[0m\n\u001b[0;32m----> 3\u001b[0;31m \u001b[0mclip_area\u001b[0m\u001b[0;34m(\u001b[0m\u001b[0mvector_data\u001b[0m\u001b[0;34m.\u001b[0m\u001b[0mgeometry\u001b[0m\u001b[0;34m,\u001b[0m \u001b[0mlandsat_images\u001b[0m\u001b[0;34m[\u001b[0m\u001b[0;36m1\u001b[0m\u001b[0;34m]\u001b[0m\u001b[0;34m,\u001b[0m \u001b[0;34m'data/failed_test.tif'\u001b[0m\u001b[0;34m)\u001b[0m\u001b[0;34m\u001b[0m\u001b[0m\n\u001b[0m",
      "\u001b[0;32m/Volumes/Pamiec/A/Landsat8/l8pv2/scripts/clip_area.py\u001b[0m in \u001b[0;36mclip_area\u001b[0;34m(vector_geometry, raster_file, save_image_to)\u001b[0m\n\u001b[1;32m      5\u001b[0m \u001b[0;34m\u001b[0m\u001b[0m\n\u001b[1;32m      6\u001b[0m     \u001b[0;32mwith\u001b[0m \u001b[0mrio\u001b[0m\u001b[0;34m.\u001b[0m\u001b[0mopen\u001b[0m\u001b[0;34m(\u001b[0m\u001b[0mraster_file\u001b[0m\u001b[0;34m,\u001b[0m \u001b[0;34m'r'\u001b[0m\u001b[0;34m)\u001b[0m \u001b[0;32mas\u001b[0m \u001b[0mraster_source\u001b[0m\u001b[0;34m:\u001b[0m\u001b[0;34m\u001b[0m\u001b[0m\n\u001b[0;32m----> 7\u001b[0;31m         \u001b[0mclipped_image\u001b[0m\u001b[0;34m,\u001b[0m \u001b[0mtransform\u001b[0m \u001b[0;34m=\u001b[0m \u001b[0mrmask\u001b[0m\u001b[0;34m.\u001b[0m\u001b[0mmask\u001b[0m\u001b[0;34m(\u001b[0m\u001b[0mraster_source\u001b[0m\u001b[0;34m,\u001b[0m \u001b[0mvector_geometry\u001b[0m\u001b[0;34m,\u001b[0m \u001b[0mcrop\u001b[0m\u001b[0;34m=\u001b[0m\u001b[0;32mTrue\u001b[0m\u001b[0;34m)\u001b[0m\u001b[0;34m\u001b[0m\u001b[0m\n\u001b[0m\u001b[1;32m      8\u001b[0m         \u001b[0mmetadata\u001b[0m \u001b[0;34m=\u001b[0m \u001b[0mraster_source\u001b[0m\u001b[0;34m.\u001b[0m\u001b[0mmeta\u001b[0m\u001b[0;34m.\u001b[0m\u001b[0mcopy\u001b[0m\u001b[0;34m(\u001b[0m\u001b[0;34m)\u001b[0m\u001b[0;34m\u001b[0m\u001b[0m\n\u001b[1;32m      9\u001b[0m \u001b[0;34m\u001b[0m\u001b[0m\n",
      "\u001b[0;32m~/anaconda3/envs/l8p/lib/python3.6/site-packages/rasterio/mask.py\u001b[0m in \u001b[0;36mmask\u001b[0;34m(raster, shapes, all_touched, invert, nodata, filled, crop, pad)\u001b[0m\n\u001b[1;32m    175\u001b[0m     shape_mask, transform, window = raster_geometry_mask(\n\u001b[1;32m    176\u001b[0m         \u001b[0mraster\u001b[0m\u001b[0;34m,\u001b[0m \u001b[0mshapes\u001b[0m\u001b[0;34m,\u001b[0m \u001b[0mall_touched\u001b[0m\u001b[0;34m=\u001b[0m\u001b[0mall_touched\u001b[0m\u001b[0;34m,\u001b[0m \u001b[0minvert\u001b[0m\u001b[0;34m=\u001b[0m\u001b[0minvert\u001b[0m\u001b[0;34m,\u001b[0m \u001b[0mcrop\u001b[0m\u001b[0;34m=\u001b[0m\u001b[0mcrop\u001b[0m\u001b[0;34m,\u001b[0m\u001b[0;34m\u001b[0m\u001b[0m\n\u001b[0;32m--> 177\u001b[0;31m         pad=pad)\n\u001b[0m\u001b[1;32m    178\u001b[0m \u001b[0;34m\u001b[0m\u001b[0m\n\u001b[1;32m    179\u001b[0m     \u001b[0mheight\u001b[0m\u001b[0;34m,\u001b[0m \u001b[0mwidth\u001b[0m \u001b[0;34m=\u001b[0m \u001b[0mshape_mask\u001b[0m\u001b[0;34m.\u001b[0m\u001b[0mshape\u001b[0m\u001b[0;34m\u001b[0m\u001b[0m\n",
      "\u001b[0;32m~/anaconda3/envs/l8p/lib/python3.6/site-packages/rasterio/mask.py\u001b[0m in \u001b[0;36mraster_geometry_mask\u001b[0;34m(raster, shapes, all_touched, invert, crop, pad)\u001b[0m\n\u001b[1;32m     84\u001b[0m         \u001b[0;31m# depending on value of crop\u001b[0m\u001b[0;34m\u001b[0m\u001b[0;34m\u001b[0m\u001b[0m\n\u001b[1;32m     85\u001b[0m         \u001b[0;32mif\u001b[0m \u001b[0mcrop\u001b[0m\u001b[0;34m:\u001b[0m\u001b[0;34m\u001b[0m\u001b[0m\n\u001b[0;32m---> 86\u001b[0;31m             \u001b[0;32mraise\u001b[0m \u001b[0mValueError\u001b[0m\u001b[0;34m(\u001b[0m\u001b[0;34m'Input shapes do not overlap raster.'\u001b[0m\u001b[0;34m)\u001b[0m\u001b[0;34m\u001b[0m\u001b[0m\n\u001b[0m\u001b[1;32m     87\u001b[0m         \u001b[0;32melse\u001b[0m\u001b[0;34m:\u001b[0m\u001b[0;34m\u001b[0m\u001b[0m\n\u001b[1;32m     88\u001b[0m             warnings.warn('shapes are outside bounds of raster. '\n",
      "\u001b[0;31mValueError\u001b[0m: Input shapes do not overlap raster."
     ]
    }
   ],
   "source": [
    "# Try to clip areas with different projections\n",
    "\n",
    "clip_area(vector_data.geometry, landsat_images[1], 'data/failed_test.tif')"
   ]
  },
  {
   "cell_type": "code",
   "execution_count": null,
   "metadata": {},
   "outputs": [],
   "source": []
  }
 ],
 "metadata": {
  "kernelspec": {
   "display_name": "Python 3",
   "language": "python",
   "name": "python3"
  },
  "language_info": {
   "codemirror_mode": {
    "name": "ipython",
    "version": 3
   },
   "file_extension": ".py",
   "mimetype": "text/x-python",
   "name": "python",
   "nbconvert_exporter": "python",
   "pygments_lexer": "ipython3",
   "version": "3.6.5"
  }
 },
 "nbformat": 4,
 "nbformat_minor": 2
}
