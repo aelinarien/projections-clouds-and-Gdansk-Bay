{
 "cells": [
  {
   "cell_type": "markdown",
   "metadata": {},
   "source": [
    "# Algal Bloom Detection\n",
    "## Example how to reproject vector data, clean scenes from the clouds and detect harmful algal blooms based on the Landsat 8 data\n",
    "\n",
    "1. Import Python libraries and functions.\n",
    "2. Prepare time series Data Frame with Landsat 8 scenes (class RasterTimeSeries).\n",
    "3. Prepare class which reads, stores, shows and reprojects vector shapefiles.\n",
    "4. Example 1: differences between projections.\n",
    "5. Example 2: errors with clipping data with different projections.\n",
    "6. Example 3: clip raster.\n",
    "7. Clipping multiple rasters and update dataframe.\n",
    "8. Calculate Enhanced Vegetation Index EVI.\n",
    "9. Why will it be very hard to obtain a valid results? - an example\n",
    "10. Calculate EVI with corrected data.\n",
    "11. Clouds and remote sensing.\n",
    "12. Algal bloom detection and analysis."
   ]
  },
  {
   "cell_type": "markdown",
   "metadata": {},
   "source": [
    "### 1. Import Python libraries and functions."
   ]
  },
  {
   "cell_type": "code",
   "execution_count": 1,
   "metadata": {},
   "outputs": [],
   "source": [
    "%matplotlib inline\n",
    "\n",
    "# Base\n",
    "import os\n",
    "import numpy as np\n",
    "import pandas as pd\n",
    "\n",
    "# Spatial analysis\n",
    "import rasterio as rio\n",
    "import fiona as fio\n",
    "from fiona.crs import from_epsg\n",
    "from pyproj import Proj, transform\n",
    "\n",
    "# Visualization\n",
    "import matplotlib.pyplot as plt\n",
    "\n",
    "# Additional scripts\n",
    "from scripts.clip_area import clip_area\n",
    "from scripts.read_landsat_images import read_landsat_images\n",
    "from scripts.show_band import show_band"
   ]
  },
  {
   "cell_type": "markdown",
   "metadata": {},
   "source": [
    "### 2. Prepare time series Data Frame with Landsat 8 scenes (class RasterTimeSeries)."
   ]
  },
  {
   "cell_type": "code",
   "execution_count": 48,
   "metadata": {},
   "outputs": [],
   "source": [
    "class RasterTimeSeries:\n",
    "    \"\"\"Class prepares dataframe object with addresses to the folders with landsat bands. Dataframe index is a time when each scene was retrieved.\n",
    "    It is initialized with the folder which contains all landsat bands.\n",
    "    \n",
    "    Class methods:\n",
    "    prepare_directories(main_folder=None) - method prepares a list of folders with satellite images. Method performs search in the parent directory\n",
    "    given by the user or if it is None then it is taken from the class itself.\"\"\"\n",
    "    \n",
    "    def __init__(self, main_folder):\n",
    "        self.main_folder = main_folder\n",
    "        self.landsat_folders = None\n",
    "        self.landsat_dataframe = None\n",
    "    \n",
    "    def prepare_directories(self, main_folder=None):\n",
    "        \"\"\"Function prepares list with Landsat images directories in the given folder.\n",
    "        input 1: main_folder (string)\n",
    "        If None then self.main_folder is used as the parent directory of the folders with satellite images.\n",
    "        output: prepared_list - list with all folders with satellite images.\"\"\"\n",
    "        \n",
    "        if main_folder:\n",
    "            folder_name = os.listdir(main_folder)\n",
    "        else:\n",
    "            folder_name = self.main_folder\n",
    "        raw_list = os.listdir(folder_name)\n",
    "        prepared_list = []\n",
    "        for folder in raw_list:\n",
    "            if ((folder.startswith('LC')) and not (folder.endswith('.tar.gz'))):\n",
    "                prepared_list.append(folder_name + '/' + folder + '/')\n",
    "        self.landsat_folders = prepared_list\n",
    "        return prepared_list\n",
    "    \n",
    "    @staticmethod\n",
    "    def read_timestamp(folder):\n",
    "        \"\"\"Function reads date of acquisition of each Landsat 8 scene based on the folder with MTL file.\n",
    "        input 1: folder - string with Landsat folder (MTL file must be placed in it).\n",
    "        output: string with the scene acquisition time\"\"\"\n",
    "    \n",
    "        files = os.listdir(folder)\n",
    "        for file in files:\n",
    "            if file.startswith('LC') and file.endswith('MTL.txt'):\n",
    "                address = folder + '/' + file\n",
    "                with open(address, 'r') as f:\n",
    "                    for line in f:\n",
    "                        line = ''.join(line.split())\n",
    "                        if line.startswith('DATE_ACQUIRED='):\n",
    "                            line = line.replace('DATE_ACQUIRED=', '')\n",
    "                            return line\n",
    "    \n",
    "    def prepare_dataframe(self):\n",
    "        \"\"\"Function prepares dataframe with index column as a date of acquisition and the main column DIR which points\n",
    "        to the directories with Landsat 8 images. Function takes one argument: the list of folders with Landsat 8 datasets.\n",
    "        output: pandas dataframe with indexes set to the dates of acquisition and column indices folders with Landsat images.\"\"\"\n",
    "        \n",
    "        # DataFrame preparation\n",
    "        time_series = pd.DataFrame(self.landsat_folders, columns=['DIR'])\n",
    "        time_series.index = time_series['DIR'].apply(lambda x: str(pd.to_datetime(self.read_timestamp(x)).date()))\n",
    "        time_series.index.name = 'DATE'\n",
    "        time_series = time_series.sort_index()\n",
    "        self.landsat_dataframe = time_series\n",
    "        return time_series\n",
    "    \n",
    "    def __str__(self):\n",
    "        if self.landsat_folders is None:\n",
    "            return('Parent folder of all scenes: {}.\\\n",
    "            \\nList of subfolders is not created.\\\n",
    "            \\nDataframe with dates is not created.'.format(\n",
    "            self.main_folder))\n",
    "        elif self.landsat_dataframe is None:\n",
    "            return('Parent folder of all scenes: {}\\\n",
    "            \\nList of subfolders has {} directories.\\\n",
    "            \\nDataframe with dates is not created.'.format(\n",
    "            self.main_folder, len(self.landsat_folders)))\n",
    "        else:\n",
    "            return('Parent folder of all scenes: {}\\\n",
    "            \\nList of subfolders has {} directories.\\\n",
    "            \\nDataframe is created. List of all dates: {}.'.format(\n",
    "            self.main_folder,\n",
    "            len(self.landsat_folders),\n",
    "            self.landsat_dataframe.index.values))"
   ]
  },
  {
   "cell_type": "code",
   "execution_count": 49,
   "metadata": {},
   "outputs": [
    {
     "name": "stdout",
     "output_type": "stream",
     "text": [
      "Parent folder of all scenes: data/rasters.            \n",
      "List of subfolders is not created.            \n",
      "Dataframe with dates is not created.\n"
     ]
    }
   ],
   "source": [
    "folder = 'data/rasters'\n",
    "algal_blooms = RasterTimeSeries(folder)\n",
    "print(algal_blooms)"
   ]
  },
  {
   "cell_type": "code",
   "execution_count": 50,
   "metadata": {},
   "outputs": [
    {
     "name": "stdout",
     "output_type": "stream",
     "text": [
      "Parent folder of all scenes: data/rasters            \n",
      "List of subfolders has 14 directories.            \n",
      "Dataframe with dates is not created.\n"
     ]
    }
   ],
   "source": [
    "algal_blooms.prepare_directories()\n",
    "print(algal_blooms)"
   ]
  },
  {
   "cell_type": "code",
   "execution_count": 51,
   "metadata": {},
   "outputs": [
    {
     "name": "stdout",
     "output_type": "stream",
     "text": [
      "Parent folder of all scenes: data/rasters            \n",
      "List of subfolders has 14 directories.            \n",
      "Dataframe is created. List of all dates: ['2013-04-15' '2013-05-01' '2013-05-17' '2013-06-18' '2013-08-05'\n",
      " '2013-09-06' '2014-07-07' '2015-04-21' '2015-08-11' '2017-04-10'\n",
      " '2017-05-12' '2017-05-28' '2018-04-13' '2018-05-31'].\n"
     ]
    }
   ],
   "source": [
    "algal_blooms.prepare_dataframe()\n",
    "print(algal_blooms)"
   ]
  },
  {
   "cell_type": "code",
   "execution_count": null,
   "metadata": {},
   "outputs": [],
   "source": []
  }
 ],
 "metadata": {
  "kernelspec": {
   "display_name": "Python 3",
   "language": "python",
   "name": "python3"
  },
  "language_info": {
   "codemirror_mode": {
    "name": "ipython",
    "version": 3
   },
   "file_extension": ".py",
   "mimetype": "text/x-python",
   "name": "python",
   "nbconvert_exporter": "python",
   "pygments_lexer": "ipython3",
   "version": "3.6.5"
  }
 },
 "nbformat": 4,
 "nbformat_minor": 2
}
