{
 "cells": [
  {
   "cell_type": "markdown",
   "metadata": {},
   "source": [
    "# Algal Bloom Detection\n",
    "## Example how to reproject vector data, clean scenes from the clouds and detect harmful algal blooms based on the Landsat 8 data\n",
    "\n",
    "1. Import python libraries and functions.\n",
    "2. Prepare time series Data Frame with Landsat 8 scenes (class RasterTimeSeries).\n",
    "3. Prepare class which reads, stores, shows and reprojects vector shapefiles.\n",
    "4. Example 1: differences between projections.\n",
    "5. Example 2: errors with clipping data with different projections.\n",
    "6. Example 3: clip raster.\n",
    "7. Clipping multiple rasters and update dataframe.\n",
    "8. Calculate Enhanced Vegetation Index EVI.\n",
    "9. Why will it be very hard to obtain a valid results? - an example\n",
    "10. Calculate EVI with corrected data.\n",
    "11. Clouds and remote sensing.\n",
    "12. Algal bloom detection and analysis."
   ]
  },
  {
   "cell_type": "code",
   "execution_count": null,
   "metadata": {},
   "outputs": [],
   "source": []
  }
 ],
 "metadata": {
  "kernelspec": {
   "display_name": "Python 3",
   "language": "python",
   "name": "python3"
  },
  "language_info": {
   "codemirror_mode": {
    "name": "ipython",
    "version": 3
   },
   "file_extension": ".py",
   "mimetype": "text/x-python",
   "name": "python",
   "nbconvert_exporter": "python",
   "pygments_lexer": "ipython3",
   "version": "3.6.5"
  }
 },
 "nbformat": 4,
 "nbformat_minor": 2
}
